{
 "cells": [
  {
   "cell_type": "code",
   "execution_count": 2,
   "id": "3f86b2a7",
   "metadata": {},
   "outputs": [
    {
     "name": "stdout",
     "output_type": "stream",
     "text": [
      "flag of first read:1187\n",
      "number of reads:2921629\n",
      "number of unmapped reads:4\n",
      "number of reads with mapping quality = 0:126628\n",
      "average mapping quality:55.91379158681681\n",
      "average mapping quality without the zeros:58.446975510921106\n"
     ]
    }
   ],
   "source": [
    "import pysam\n",
    "\n",
    "pysam.index(\"merged-tumor.bam\")\n",
    "\n",
    "samfile = pysam.AlignmentFile(\"merged-tumor.bam\", \"rb\")\n",
    "index_stats = samfile.get_index_statistics()\n",
    "\n",
    "\n",
    "num_unmapped = 0\n",
    "num_reads = 0\n",
    "\n",
    "num_zero_map_Q = 0\n",
    "avg_map_Q = 0\n",
    "\n",
    "for i, read in enumerate(samfile.fetch()):\n",
    "    num_reads = num_reads + 1\n",
    "    if i == 0:\n",
    "        print(\"flag of first read:{}\".format(read.flag))\n",
    "    avg_map_Q = avg_map_Q + read.mapping_quality\n",
    "    if read.mapping_quality == 0:\n",
    "        num_zero_map_Q = num_zero_map_Q + 1 \n",
    "\n",
    "avg_map_Q_without_zeros = avg_map_Q/(num_reads-num_zero_map_Q)\n",
    "avg_map_Q = avg_map_Q/num_reads\n",
    "\n",
    "\n",
    "for stat in index_stats:\n",
    "    if stat.unmapped != 0:\n",
    "        num_unmapped = num_unmapped + 1\n",
    "    \n",
    "\n",
    "print(\"number of reads:{}\".format(num_reads))\n",
    "print(\"number of unmapped reads:{}\".format(num_unmapped))\n",
    "print(\"number of reads with mapping quality = 0:{}\".format(num_zero_map_Q))\n",
    "print(\"average mapping quality:{}\".format(avg_map_Q))\n",
    "print(\"average mapping quality without the zeros:{}\".format(avg_map_Q_without_zeros))"
   ]
  },
  {
   "cell_type": "code",
   "execution_count": null,
   "id": "be9d9883",
   "metadata": {},
   "outputs": [],
   "source": []
  }
 ],
 "metadata": {
  "kernelspec": {
   "display_name": "Python 3",
   "language": "python",
   "name": "python3"
  },
  "language_info": {
   "codemirror_mode": {
    "name": "ipython",
    "version": 3
   },
   "file_extension": ".py",
   "mimetype": "text/x-python",
   "name": "python",
   "nbconvert_exporter": "python",
   "pygments_lexer": "ipython3",
   "version": "3.8.8"
  }
 },
 "nbformat": 4,
 "nbformat_minor": 5
}
